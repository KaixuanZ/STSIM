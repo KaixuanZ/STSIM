{
 "cells": [
  {
   "cell_type": "code",
   "execution_count": 51,
   "metadata": {},
   "outputs": [],
   "source": [
    "import argparse\n",
    "import os\n",
    "import numpy as np\n",
    "\n",
    "from test import evaluation\n",
    "from test import PearsonCoeff\n",
    "from utils.dataset import Dataset\n",
    "from utils.parse_config import parse_config\n",
    "\n",
    "import torch\n",
    "import torch.nn as nn\n",
    "import torch.nn.functional as F\n",
    "import torch.optim as optim\n",
    "\n",
    "from torch.utils.tensorboard import SummaryWriter"
   ]
  },
  {
   "cell_type": "markdown",
   "metadata": {},
   "source": [
    "Load config file and dataset"
   ]
  },
  {
   "cell_type": "code",
   "execution_count": 271,
   "metadata": {},
   "outputs": [
    {
     "name": "stdout",
     "output_type": "stream",
     "text": [
      "Namespace(config='config/train_STSIM.cfg')\n",
      "{'gpus': '0', 'num_workers': '0', 'model': 'STSIM', 'dataset_dir': 'dataset/jana2012/', 'label_file': 'label.xlsx', 'train_img_folder': 'train', 'valid_img_folder': 'train', 'ref_img_folder': 'original', 'weights_path': 'weights/STSIM/', 'loss': 'MSE', 'mode': '0', 'epochs': '1000', 'lr': '0.0001', 'train_batch_size': '1000', 'valid_batch_size': '1000', 'checkpoint_interval': '25', 'evaluation_interval': '50'}\n"
     ]
    }
   ],
   "source": [
    "parser = argparse.ArgumentParser()\n",
    "parser.add_argument(\"--config\", type=str, default=\"config/train_STSIM.cfg\", help=\"path to data config file\")\n",
    "# parser.add_argument(\"--config\", type=str, default=\"config/STSIM_mode0_coeff.cfg\", help=\"path to data config file\")\n",
    "\n",
    "args, unknown = parser.parse_known_args()\n",
    "print(args)\n",
    "config = parse_config(args.config)\n",
    "print(config)\n",
    "device = torch.device(\"cuda\" if torch.cuda.is_available() else \"cpu\")\n",
    "if not os.path.isdir(config['weights_path']):\n",
    "    os.mkdir(config['weights_path'])\n",
    "\n",
    "# read training data\n",
    "dataset_dir = config['dataset_dir']\n",
    "label_file = config['label_file']\n",
    "dist_img_folder = config['train_img_folder']\n",
    "train_batch_size = int(config['train_batch_size'])\n",
    "trainset = Dataset(data_dir=dataset_dir, label_file=label_file, dist_folder=dist_img_folder)\n",
    "train_loader = torch.utils.data.DataLoader(trainset, batch_size=train_batch_size, shuffle=True)\n",
    "\n",
    "# read validation data\n",
    "dataset_dir = config['dataset_dir']\n",
    "dist_img_folder = config['valid_img_folder']\n",
    "valid_batch_size = int(config['valid_batch_size'])\n",
    "validset = Dataset(data_dir=dataset_dir, label_file=label_file, dist_folder=dist_img_folder)\n",
    "valid_loader = torch.utils.data.DataLoader(validset, batch_size=valid_batch_size)\n",
    "\n",
    "epochs = int(config['epochs'])\n",
    "evaluation_interval = int(config['evaluation_interval'])\n",
    "checkpoint_interval = int(config['checkpoint_interval'])"
   ]
  },
  {
   "cell_type": "code",
   "execution_count": 241,
   "metadata": {},
   "outputs": [],
   "source": [
    "# mode for STSIM model\n",
    "mode = int(config['mode'])\n",
    "learning_rate = float(config['lr'])\n",
    "loss_type = config['loss']"
   ]
  },
  {
   "cell_type": "code",
   "execution_count": 8,
   "metadata": {},
   "outputs": [],
   "source": [
    "# Prepare data for training and validation\n",
    "if config['model'] == 'STSIM':\n",
    "    # prepare data\n",
    "    X1_train, X2_train, Y_train, mask_train = next(iter(train_loader))\n",
    "    X1_valid, X2_valid, Y_valid, mask_valid = next(iter(valid_loader))\n",
    "\n",
    "    from steerable.sp3Filters import sp3Filters\n",
    "    from metrics.STSIM import *\n",
    "    m = Metric(sp3Filters, device)\n",
    "    # STSIM-M features\n",
    "    X1_train = m.STSIM_M(X1_train.double().to(device))\n",
    "    X2_train = m.STSIM_M(X2_train.double().to(device))\n",
    "    X1_valid = m.STSIM_M(X1_valid.double().to(device))\n",
    "    X2_valid = m.STSIM_M(X2_valid.double().to(device))\n",
    "    Y_train = Y_train.to(device)\n",
    "    Y_valid = Y_valid.to(device)\n",
    "    mask_train = mask_train.to(device)\n",
    "    mask_valid = mask_valid.to(device)"
   ]
  },
  {
   "cell_type": "code",
   "execution_count": 272,
   "metadata": {},
   "outputs": [],
   "source": [
    "class STSIM_M(torch.nn.Module):\n",
    "    def __init__(self, dim ,mode = 0, device=None):\n",
    "        '''\n",
    "        Args:\n",
    "            mode: STSIM-M(0),regression(1)\n",
    "        '''\n",
    "        super(STSIM_M, self).__init__()\n",
    "        \n",
    "        self.device = torch.device('cpu') if device is None else device\n",
    "        self.mode = mode\n",
    "        \n",
    "        if self.mode == 0: #STSIM_M\n",
    "            self.linear = nn.Linear(dim[0], dim[1])\n",
    "        elif self.mode == 1: #Regression\n",
    "            self.hidden = torch.nn.Linear(dim[0], dim[0])\n",
    "            self.predict = torch.nn.Linear(dim[0], 1)\n",
    "        \n",
    "\n",
    "    def forward(self, X1, X2):\n",
    "        '''\n",
    "        Args:\n",
    "            X1:\n",
    "            X2:\n",
    "        Returns:\n",
    "            pred:\n",
    "        '''\n",
    "        \n",
    "        if len(X1.shape)==4:\n",
    "            # the input are raw images, extract STSIM-M features\n",
    "            from steerable.sp3Filters import sp3Filters\n",
    "            m = Metric(sp3Filters, device=self.device)\n",
    "            with torch.no_grad():\n",
    "                X1 = m.STSIM_M(X1)\n",
    "                X2 = m.STSIM_M(X2)\n",
    "        if self.mode == 0: #STSIM_M\n",
    "            pred = F.sigmoid(self.linear(torch.abs(X1-X2)))\t# [N, dim]\n",
    "#             pred = self.linear(torch.abs(X1-X2)) # [N, dim]\n",
    "            pred = torch.bmm(pred.unsqueeze(1), pred.unsqueeze(-1)).squeeze(-1)\t# inner-prod\n",
    "            return pred\n",
    "#             return torch.sqrt(pred)\t# [N, 1]\n",
    "        elif self.mode == 1: #Regression\n",
    "            pred = F.relu(self.hidden(torch.abs(X1-X2)))     \n",
    "            pred = torch.sigmoid(self.predict(pred)) \n",
    "            return pred"
   ]
  },
  {
   "cell_type": "code",
   "execution_count": 258,
   "metadata": {},
   "outputs": [
    {
     "name": "stdout",
     "output_type": "stream",
     "text": [
      "training iter 0 : -0.6648650264283136\n",
      "validation iter 0 : 0.8623489408413969\n",
      "training iter 25 : -0.9447467461103607\n",
      "training iter 50 : -0.9564949923562294\n",
      "validation iter 50 : 0.9569015594171175\n",
      "training iter 75 : -0.9654109941209393\n",
      "training iter 100 : -0.9721345545303084\n",
      "validation iter 100 : 0.9723673072580347\n",
      "training iter 125 : -0.9771073972724895\n",
      "training iter 150 : -0.9805526755332762\n",
      "validation iter 150 : 0.980658135135432\n",
      "training iter 175 : -0.982769663137781\n",
      "training iter 200 : -0.9843979319076992\n",
      "validation iter 200 : 0.9844546018030856\n",
      "training iter 225 : -0.9856833622719325\n",
      "training iter 250 : -0.9867744235302842\n",
      "validation iter 250 : 0.9868150650265637\n",
      "training iter 275 : -0.9877295216049641\n",
      "training iter 300 : -0.9885648975166983\n",
      "validation iter 300 : 0.9885960637678698\n",
      "training iter 325 : -0.9893010884702887\n",
      "training iter 350 : -0.9899633897995017\n",
      "validation iter 350 : 0.9899886438840266\n",
      "training iter 375 : -0.9905721266906184\n",
      "training iter 400 : -0.9910269035562498\n",
      "validation iter 400 : 0.9908165302036579\n",
      "training iter 425 : -0.9915133172146934\n",
      "training iter 450 : -0.9919766499550112\n",
      "validation iter 450 : 0.9919942330529402\n",
      "training iter 475 : -0.9923448908155658\n",
      "training iter 500 : -0.9926934719393735\n",
      "validation iter 500 : 0.9927115004325573\n",
      "training iter 525 : -0.9928706926268903\n",
      "training iter 550 : -0.9933866338804446\n",
      "validation iter 550 : 0.9933989951557709\n",
      "training iter 575 : -0.9935967066014053\n",
      "training iter 600 : -0.9937614381978982\n",
      "validation iter 600 : 0.9937591009728001\n",
      "training iter 625 : -0.9940019471836795\n",
      "training iter 650 : -0.99362366946475\n",
      "validation iter 650 : 0.9936463439504811\n",
      "training iter 675 : -0.994417513593022\n",
      "training iter 700 : -0.9945714197408139\n",
      "validation iter 700 : 0.9946168129950804\n",
      "training iter 725 : -0.9945550775234482\n",
      "training iter 750 : -0.9948642369597845\n",
      "validation iter 750 : 0.9948323597546802\n",
      "training iter 775 : -0.9946330427990837\n",
      "training iter 800 : -0.9950498191931987\n",
      "validation iter 800 : 0.9949746807361315\n",
      "training iter 825 : -0.9951600732751625\n",
      "training iter 850 : -0.9952589275617665\n",
      "validation iter 850 : 0.9952594871646705\n",
      "training iter 875 : -0.9950093685922337\n",
      "training iter 900 : -0.9951270341961292\n",
      "validation iter 900 : 0.9951061130125008\n",
      "training iter 925 : -0.9952589557133715\n",
      "training iter 950 : -0.9956042141322916\n",
      "validation iter 950 : 0.9956328518551292\n",
      "training iter 975 : -0.995305940561274\n"
     ]
    }
   ],
   "source": [
    "# learnable parameters\n",
    "model = STSIM_M([X1_train.shape[1], 10],mode,device).double().to(device)\n",
    "optimizer = optim.Adam(model.parameters(), lr=learning_rate)\n",
    "criterion = torch.nn.MSELoss()\n",
    "\n",
    "for i in range(epochs):\n",
    "    pred = model(X1_train, X2_train)\n",
    "    if loss_type == 'MSE':\n",
    "        # mode等于0的时候 sigmoid不带sqrt结果最好\n",
    "        loss = criterion(pred, Y_train)\n",
    "#         loss = -torch.mean((pred - Y_train) ** 2)\n",
    "    elif loss_type == 'Coeff':\n",
    "        loss = -PearsonCoeff(pred, Y_train, mask_train)  # min neg ==> max\n",
    "    optimizer.zero_grad()\n",
    "    loss.backward()\n",
    "    optimizer.step()\n",
    "    if i % 25 == 0:\n",
    "        print('training iter ' + str(i) + ' :', loss.item())\n",
    "    if i % evaluation_interval == 0:    # validation\n",
    "        pred = model(X1_valid, X2_valid)\n",
    "        val = evaluation(pred, Y_valid, mask_valid)\n",
    "        print('validation iter ' + str(i) + ' :', val)\n",
    "    if i % checkpoint_interval == 0:    # save weights\n",
    "        torch.save(model.state_dict(), os.path.join(config['weights_path'], 'epoch_' + str(i).zfill(4) + '.pt'))"
   ]
  },
  {
   "cell_type": "markdown",
   "metadata": {},
   "source": [
    "# Testing"
   ]
  },
  {
   "cell_type": "code",
   "execution_count": 15,
   "metadata": {},
   "outputs": [],
   "source": [
    "import argparse\n",
    "\n",
    "from steerable.sp3Filters import sp3Filters\n",
    "from utils.dataset import Dataset\n",
    "from utils.parse_config import parse_config\n",
    "\n",
    "import torch\n",
    "import torch.nn.functional as F\n",
    "\n",
    "def PearsonCoeff(X, Y, mask):\n",
    "    '''\n",
    "    Args:\n",
    "        X: [N, 1] neural prediction for one batch, or [N] some other metric's output\n",
    "        Y: [N] label\n",
    "        mask: [N] indicator of correspondent class, e.g. [0,0,1,1] ,means first two samples are class 0, the rest two samples are class 1\n",
    "    Returns: Borda's rule of pearson coeff between X&Y, the same as using numpy.corrcoef()\n",
    "    '''\n",
    "    coeff = 0\n",
    "    N = set(mask.detach().cpu().numpy())\n",
    "    X = X.squeeze(-1)\n",
    "    for i in N:\n",
    "        X1 = X[mask == i].double()\n",
    "        X1 = X1 - X1.mean()\n",
    "        X2 = Y[mask == i].double()\n",
    "        X2 = X2 - X2.mean()\n",
    "\n",
    "        nom = torch.dot(X1, X2)\n",
    "        denom = torch.sqrt(torch.sum(X1 ** 2) * torch.sum(X2 ** 2))\n",
    "\n",
    "        coeff += torch.abs(nom / (denom + 1e-10))\n",
    "    return coeff / len(N)\n",
    "\n",
    "def evaluation(pred, Y, mask):\n",
    "    return PearsonCoeff(pred, Y, mask).item()"
   ]
  },
  {
   "cell_type": "code",
   "execution_count": 31,
   "metadata": {},
   "outputs": [
    {
     "name": "stdout",
     "output_type": "stream",
     "text": [
      "Namespace(batch_size=1000, config='config/test.cfg')\n",
      "{'gpus': '0', 'num_workers': '0', 'model': 'STSIM', 'dataset_dir': 'dataset/jana2012/', 'label_file': 'label.xlsx', 'dist_img_folder': 'test', 'ref_img_folder': 'original', 'weights_path': 'weights/weights_DISTS_finetuned.pt'}\n"
     ]
    }
   ],
   "source": [
    "# Read config and data for testing\n",
    "parser = argparse.ArgumentParser()\n",
    "parser.add_argument(\"--config\", type=str, default=\"config/test.cfg\", help=\"path to data config file\")\n",
    "parser.add_argument(\"--batch_size\", type=int, default=1000, help=\"size of each image batch\")\n",
    "args, unknown = parser.parse_known_args()\n",
    "print(args)\n",
    "config = parse_config(args.config)\n",
    "print(config)\n",
    "\n",
    "device = torch.device(\"cuda\" if torch.cuda.is_available() else \"cpu\")\n",
    "\n",
    "# read data\n",
    "dataset_dir = config['dataset_dir']\n",
    "label_file = config['label_file']\n",
    "dist_img_folder = config['dist_img_folder']\n",
    "testset = Dataset(data_dir=dataset_dir, label_file=label_file, dist_folder=dist_img_folder)\n",
    "test_loader = torch.utils.data.DataLoader(testset, batch_size=args.batch_size)\n",
    "\n",
    "X1, X2, Y, mask = next(iter(test_loader))"
   ]
  },
  {
   "cell_type": "code",
   "execution_count": 32,
   "metadata": {},
   "outputs": [
    {
     "name": "stdout",
     "output_type": "stream",
     "text": [
      "STSIM-1 test: 0.8157561768297956\n",
      "STSIM-2 test: 0.8517013571296325\n"
     ]
    }
   ],
   "source": [
    "# Testing STSIM-1 and STSIM-2\n",
    "from metrics.STSIM import *\n",
    "X1 = X1.to(device).double()\n",
    "X2 = X2.to(device).double()\n",
    "Y = Y.to(device).double()\n",
    "mask = mask.to(device).double()\n",
    "m_g = Metric(sp3Filters, device=device)\n",
    "pred = m_g.STSIM(X1, X2)\n",
    "print(\"STSIM-1 test:\", evaluation(pred, Y, mask)) # 0.8158\n",
    "\n",
    "pred = m_g.STSIM2(X1, X2)\n",
    "print(\"STSIM-2 test:\", evaluation(pred, Y, mask))  # 0.8517"
   ]
  },
  {
   "cell_type": "code",
   "execution_count": 275,
   "metadata": {},
   "outputs": [],
   "source": [
    "# Testing model with saved weights\n",
    "saved_weights_path = 'weights/weights_STSIM_mode0_mse.pt'\n",
    "# saved_weights_path = 'weights/STSIM/epoch_0975.pt'\n",
    "mode = 0 # STSIM_M(0) regression(1)\n",
    "model = STSIM_M([X1_train.shape[1], 10],mode,device).double().to(device)"
   ]
  },
  {
   "cell_type": "code",
   "execution_count": 276,
   "metadata": {},
   "outputs": [],
   "source": [
    "model.load_state_dict(torch.load(saved_weights_path))\n",
    "pred = []\n",
    "pred.append(model(X1,X2))\n",
    "pred = torch.cat(pred, dim=0).detach()"
   ]
  },
  {
   "cell_type": "code",
   "execution_count": 277,
   "metadata": {},
   "outputs": [
    {
     "name": "stdout",
     "output_type": "stream",
     "text": [
      "STSIM_M test: 0.919878942383851\n"
     ]
    }
   ],
   "source": [
    "print(\"STSIM_M test:\", evaluation(pred, Y, mask))  #0.9195754925772788"
   ]
  },
  {
   "cell_type": "code",
   "execution_count": null,
   "metadata": {},
   "outputs": [],
   "source": []
  }
 ],
 "metadata": {
  "kernelspec": {
   "display_name": "Python 3",
   "language": "python",
   "name": "python3"
  },
  "language_info": {
   "codemirror_mode": {
    "name": "ipython",
    "version": 3
   },
   "file_extension": ".py",
   "mimetype": "text/x-python",
   "name": "python",
   "nbconvert_exporter": "python",
   "pygments_lexer": "ipython3",
   "version": "3.7.6"
  }
 },
 "nbformat": 4,
 "nbformat_minor": 4
}
